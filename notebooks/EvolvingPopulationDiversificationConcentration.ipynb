{
 "cells": [
  {
   "cell_type": "markdown",
   "source": [
    "# Evolving Population: Diversification & concentration around the optimal solution (2D)"
   ],
   "metadata": {
    "collapsed": false
   }
  },
  {
   "cell_type": "markdown",
   "source": [
    "In this notebook we focus on reproducing the evolution trajectory of a population. Our end goal is to visualize multiple snapshots of high-dimensional populations and map them to 2D using KDE density contour plot. With this plot, we show how TS-DE balances the exploration-exploitation trade-off using initial diversification followed by approaching and concentrating around the optimal solution."
   ],
   "metadata": {
    "collapsed": false
   }
  },
  {
   "cell_type": "code",
   "execution_count": 35,
   "outputs": [
    {
     "name": "stdout",
     "output_type": "stream",
     "text": [
      "CPU times: total: 0 ns\n",
      "Wall time: 0 ns\n"
     ]
    }
   ],
   "source": [
    "%%time\n",
    "import sys\n",
    "import math\n",
    "from typing import List\n",
    "import pandas as pd\n",
    "import numpy as np\n",
    "\n",
    "import matplotlib.pyplot as plt\n",
    "import matplotlib.lines as mlines\n",
    "import seaborn as sns\n",
    "from sklearn.decomposition import PCA\n",
    "sys.path.append('../')\n",
    "\n",
    "from util.common import zero_population, linear_bayesian_utility_model\n",
    "from util.TS_DE.TS_DE import TS_DE\n"
   ],
   "metadata": {
    "collapsed": false
   }
  },
  {
   "cell_type": "markdown",
   "source": [
    "**Reproducing left-hand side Figure 6.2.:**\n",
    "\n",
    "**Parameter setup:**\n",
    "- *d=10*\n",
    "- *M=40*\n",
    "- *T=100*\n",
    "- *mu=0.08*\n",
    "- *sigma=1*\n",
    "- *lambda_=1*\n",
    "\n",
    "**Claims we are testing:**\n",
    "(5) TS-DE first diversifies and then concentrates around the optimal solution."
   ],
   "metadata": {
    "collapsed": false
   }
  },
  {
   "cell_type": "code",
   "execution_count": 36,
   "outputs": [
    {
     "name": "stdout",
     "output_type": "stream",
     "text": [
      "CPU times: total: 0 ns\n",
      "Wall time: 1 ms\n"
     ]
    }
   ],
   "source": [
    "%%time\n",
    "\n",
    "np.random.seed(seed=0)\n",
    "\n",
    "# Initial setting for TS-DE and DE\n",
    "d = 40\n",
    "M = 20\n",
    "T = 60\n",
    "mu = 0.1\n",
    "\n",
    "# Theta star - optimal theta - parametrization of the linear Bayesian utility model for\n",
    "# which we aim to optimize the protein design.\n",
    "theta_star = np.random.multivariate_normal(np.zeros(d), np.eye(d))\n",
    "\n",
    "# Sequence that maximizes the utility function (used for visualizations).\n",
    "x_star = [0 if theta_i < 0 else 1 for theta_i in theta_star]"
   ],
   "metadata": {
    "collapsed": false
   }
  },
  {
   "cell_type": "code",
   "execution_count": 37,
   "outputs": [
    {
     "name": "stdout",
     "output_type": "stream",
     "text": [
      "CPU times: total: 1.44 s\n",
      "Wall time: 709 ms\n"
     ]
    }
   ],
   "source": [
    "%%time\n",
    "\n",
    "# Execute TS-DE\n",
    "populations, thetas = TS_DE(d=d,\n",
    "                            T=T,\n",
    "                            M=M,\n",
    "                            theta_star=theta_star,\n",
    "                            S_0=zero_population(d=d, M=M),\n",
    "                            mu=mu,\n",
    "                            sigma=1,\n",
    "                            lambda_=1,\n",
    "                            f=linear_bayesian_utility_model)"
   ],
   "metadata": {
    "collapsed": false
   }
  },
  {
   "cell_type": "code",
   "execution_count": 38,
   "outputs": [
    {
     "name": "stdout",
     "output_type": "stream",
     "text": [
      "CPU times: total: 0 ns\n",
      "Wall time: 0 ns\n"
     ]
    }
   ],
   "source": [
    "%%time\n",
    "\n",
    "# Helper function to visualize the population evolution\n",
    "def visualize_population(populations: List[List[np.ndarray]],\n",
    "                         indices: List[int],\n",
    "                         pca_fit: PCA,\n",
    "                         x_star: list) -> None:\n",
    "    if len(indices) != 6:\n",
    "        raise RuntimeError('Population visualization supports exactly 6 populations')\n",
    "    nrows = 2\n",
    "    ncols = 3\n",
    "    fig, axes = plt.subplots(nrows=nrows, ncols=ncols)\n",
    "\n",
    "    for i in range(len(indices)):\n",
    "        ix_row = math.floor(i / ncols)\n",
    "        ix_col = i % ncols\n",
    "        ix_S = indices[i]\n",
    "        S = populations[ix_S]\n",
    "        # Perform PCA on the population\n",
    "        S_pca = pca_fit.transform(S)\n",
    "        x_star_pca = pca_fit.transform(np.array(x_star).reshape(1, -1))\n",
    "        df_S_pca = pd.DataFrame(data=S_pca,\n",
    "                                columns=['PC1', 'PC2'])\n",
    "\n",
    "        # Plot the population using KDE density contour plot\n",
    "        plot = sns.kdeplot(ax=axes[ix_row, ix_col],\n",
    "                           data=df_S_pca,\n",
    "                           x='PC1',\n",
    "                           y='PC2',\n",
    "                           fill=True,\n",
    "                           cmap='Blues')\n",
    "        plot.set_xlabel(\"PC1\",fontsize=15)\n",
    "        plot.set_ylabel(\"PC2\",fontsize=15)\n",
    "        axes[ix_row, ix_col].text(\n",
    "            3.3, 1.75, f't={indices[i]}',\n",
    "            horizontalalignment='center',\n",
    "            verticalalignment='center',\n",
    "            fontsize=15\n",
    "        )\n",
    "\n",
    "        axes[ix_row, ix_col].plot(x_star_pca[0][0], x_star_pca[0][1], marker='x', color='red')\n",
    "        axes[ix_row, ix_col].set_xlim([-2, 4])\n",
    "        axes[ix_row, ix_col].set_ylim([-2, 2])\n",
    "\n",
    "        if ix_col != 0:\n",
    "            plot.set(ylabel=None)\n",
    "\n",
    "        if ix_row != 1:\n",
    "            plot.set(xlabel=None)\n",
    "\n",
    "    red_marker = mlines.Line2D([], [], color='red', marker='x', linestyle='None',\n",
    "                              markersize=7, label='optimal solution')\n",
    "    plt.legend(handles=[red_marker], loc='lower center', bbox_to_anchor=(0.5, 0., 0., 0.5), prop={'size': 15})\n",
    "    plt.savefig('../plots/evolving_population_2d.png')\n",
    "    plt.show()"
   ],
   "metadata": {
    "collapsed": false
   }
  },
  {
   "cell_type": "code",
   "execution_count": 39,
   "outputs": [
    {
     "data": {
      "text/plain": "<Figure size 640x480 with 6 Axes>",
      "image/png": "[encoded data removed]"
     },
     "metadata": {},
     "output_type": "display_data"
    },
    {
     "name": "stdout",
     "output_type": "stream",
     "text": [
      "CPU times: total: 1.03 s\n",
      "Wall time: 982 ms\n"
     ]
    }
   ],
   "source": [
    "%%time\n",
    "\n",
    "# Fit PCA on all populations - this is done so that we have the same mapping for all steps in the visualization\n",
    "arr_populations = np.array([np.array(S) for S in populations]).reshape(M * (T + 1), d)\n",
    "pca = PCA(n_components=2)\n",
    "pca_fit = pca.fit(arr_populations)\n",
    "\n",
    "visualize_population(populations=populations,\n",
    "                     indices=[1, 2, 5, 10, 20, 35],\n",
    "                     pca_fit=pca_fit,\n",
    "                     x_star=x_star)"
   ],
   "metadata": {
    "collapsed": false
   }
  }
 ],
 "metadata": {
  "kernelspec": {
   "display_name": "Python 3",
   "language": "python",
   "name": "python3"
  },
  "language_info": {
   "codemirror_mode": {
    "name": "ipython",
    "version": 2
   },
   "file_extension": ".py",
   "mimetype": "text/x-python",
   "name": "python",
   "nbconvert_exporter": "python",
   "pygments_lexer": "ipython2",
   "version": "2.7.6"
  }
 },
 "nbformat": 4,
 "nbformat_minor": 0
}
